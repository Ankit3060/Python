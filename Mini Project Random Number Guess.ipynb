{
 "cells": [
  {
   "cell_type": "markdown",
   "id": "92211c3b",
   "metadata": {},
   "source": [
    "**This is Random number guessing game between (0,10)**"
   ]
  },
  {
   "cell_type": "code",
   "execution_count": 18,
   "id": "97381b5b",
   "metadata": {},
   "outputs": [
    {
     "name": "stdout",
     "output_type": "stream",
     "text": [
      "Guess the Target :9\n",
      "Your number is greater too big take small guess\n",
      "Guess the Target :7\n",
      "Your number is greater too big take small guess\n",
      "Guess the Target :5\n",
      "Your number is greater too big take small guess\n",
      "Guess the Target :4\n",
      "Your number is greater too big take small guess\n",
      "Guess the Target :2\n",
      "Success, you done it\n",
      "----------Game Over------------\n"
     ]
    }
   ],
   "source": [
    "import random\n",
    "target = random.randint(1,9)\n",
    "\n",
    "while True:\n",
    "    useChoice = int(input(\"Guess the Target :\"))\n",
    "    if (useChoice == target):\n",
    "        print(\"Success, you done it\")\n",
    "        break\n",
    "    if(useChoice<target):\n",
    "        print(\"Your number is greater too small take bigger guess\")\n",
    "    elif(useChoice>target):\n",
    "        print(\"Your number is greater too big take small guess\")\n",
    "        \n",
    "print(\"----------Game Over------------\")"
   ]
  },
  {
   "cell_type": "code",
   "execution_count": null,
   "id": "3ef12da5",
   "metadata": {},
   "outputs": [],
   "source": []
  }
 ],
 "metadata": {
  "kernelspec": {
   "display_name": "Python 3 (ipykernel)",
   "language": "python",
   "name": "python3"
  },
  "language_info": {
   "codemirror_mode": {
    "name": "ipython",
    "version": 3
   },
   "file_extension": ".py",
   "mimetype": "text/x-python",
   "name": "python",
   "nbconvert_exporter": "python",
   "pygments_lexer": "ipython3",
   "version": "3.11.5"
  }
 },
 "nbformat": 4,
 "nbformat_minor": 5
}
