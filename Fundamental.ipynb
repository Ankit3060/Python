{
 "cells": [
  {
   "cell_type": "code",
   "execution_count": 3,
   "id": "f38256c0",
   "metadata": {},
   "outputs": [
    {
     "name": "stdout",
     "output_type": "stream",
     "text": [
      "Ankit\n",
      "21\n"
     ]
    }
   ],
   "source": [
    "name=\"Ankit kumar\"\n",
    "age = 20\n",
    "\n",
    "name=\"Ankit\"\n",
    "age=21\n",
    "\n",
    "print(name)\n",
    "print(age)"
   ]
  },
  {
   "cell_type": "code",
   "execution_count": 17,
   "id": "ef4d5309",
   "metadata": {},
   "outputs": [
    {
     "name": "stdout",
     "output_type": "stream",
     "text": [
      "Tony Stark\n",
      "Tony Age is 51 years old\n",
      "Tony is genius True\n"
     ]
    }
   ],
   "source": [
    "fname = \"Tony\"\n",
    "lname = \"Stark\"\n",
    "age = 51\n",
    "is_Genius = True\n",
    "\n",
    "print(fname+\" \"+lname)\n",
    "print(fname , \"Age is\" , age , \"years old\")\n",
    "print(fname , \"is genius\",is_Genius)"
   ]
  },
  {
   "cell_type": "markdown",
   "id": "f7c1aee4",
   "metadata": {},
   "source": [
    "# Taking input"
   ]
  },
  {
   "cell_type": "code",
   "execution_count": null,
   "id": "49c87ab1",
   "metadata": {},
   "outputs": [],
   "source": [
    "name = input(\"What is your name ?\")\n",
    "print(\"Hello\", name)"
   ]
  },
  {
   "cell_type": "markdown",
   "id": "f638b333",
   "metadata": {},
   "source": [
    "# Type conversion"
   ]
  },
  {
   "cell_type": "code",
   "execution_count": 26,
   "id": "d94e9539",
   "metadata": {},
   "outputs": [
    {
     "name": "stdout",
     "output_type": "stream",
     "text": [
      "Enter your old age : 52\n",
      "54\n"
     ]
    }
   ],
   "source": [
    "old_Age = input(\"Enter your old age : \")\n",
    "new_Age = int(old_Age) + 2\n",
    "print(new_Age)"
   ]
  },
  {
   "cell_type": "code",
   "execution_count": 33,
   "id": "1329cd41",
   "metadata": {},
   "outputs": [
    {
     "name": "stdout",
     "output_type": "stream",
     "text": [
      "Enter the first number :50\n",
      "Enter the second nmber :5\n",
      "The sum is 55\n"
     ]
    }
   ],
   "source": [
    "num1 = input(\"Enter the first number :\")\n",
    "num2 = input(\"Enter the second nmber :\")\n",
    "sum = int(num1)+int(num2)\n",
    "# sum = num1+num2\n",
    "print(\"The sum is\",sum)"
   ]
  },
  {
   "cell_type": "markdown",
   "id": "51b2d963",
   "metadata": {},
   "source": [
    "# Strings"
   ]
  },
  {
   "cell_type": "code",
   "execution_count": 36,
   "id": "1cd1ccb1",
   "metadata": {},
   "outputs": [
    {
     "name": "stdout",
     "output_type": "stream",
     "text": [
      "Ankit kumar\n",
      "ANKIT KUMAR\n",
      "ankit kumar\n"
     ]
    }
   ],
   "source": [
    "name = \"Ankit kumar\"\n",
    "print(name)\n",
    "print(name.upper())\n",
    "print(name.lower())"
   ]
  },
  {
   "cell_type": "code",
   "execution_count": 40,
   "id": "c981480d",
   "metadata": {},
   "outputs": [
    {
     "name": "stdout",
     "output_type": "stream",
     "text": [
      "2\n",
      "6\n"
     ]
    }
   ],
   "source": [
    "name = \"Ankit Kumar\"\n",
    "print(name.find('k'))\n",
    "print(name.find('K'))"
   ]
  },
  {
   "cell_type": "code",
   "execution_count": 42,
   "id": "e283beb5",
   "metadata": {},
   "outputs": [
    {
     "name": "stdout",
     "output_type": "stream",
     "text": [
      "Iron Man\n",
      "Tony Stark\n"
     ]
    }
   ],
   "source": [
    "name = \"Tony Stark\"\n",
    "print(name.replace(\"Tony Stark\",\"Iron Man\"))\n",
    "print(name)"
   ]
  },
  {
   "cell_type": "code",
   "execution_count": 45,
   "id": "6a0acfd1",
   "metadata": {},
   "outputs": [
    {
     "name": "stdout",
     "output_type": "stream",
     "text": [
      "True\n",
      "True\n"
     ]
    }
   ],
   "source": [
    "name = \"Ankit\"\n",
    "print(\"A\" in name)\n",
    "print('a' in name)"
   ]
  },
  {
   "cell_type": "markdown",
   "id": "0afc9ce9",
   "metadata": {},
   "source": [
    "# Operators"
   ]
  },
  {
   "cell_type": "code",
   "execution_count": 51,
   "id": "603ae299",
   "metadata": {},
   "outputs": [
    {
     "name": "stdout",
     "output_type": "stream",
     "text": [
      "Addition : 7\n",
      "Substraction : 3\n",
      "Multiplication : 10\n",
      "Division : 2.5\n",
      "Floor divison : 2\n",
      "Remainder : 1\n",
      "Power : 25\n"
     ]
    }
   ],
   "source": [
    "print(\"Addition :\",5+2)\n",
    "print(\"Substraction :\",5-2)\n",
    "print(\"Multiplication :\",5*2)\n",
    "print(\"Division :\",5/2)\n",
    "print(\"Floor divison :\",5//2)\n",
    "print(\"Remainder :\",5%2)\n",
    "print(\"Power :\",5**2)"
   ]
  },
  {
   "cell_type": "code",
   "execution_count": 52,
   "id": "7932a9dd",
   "metadata": {},
   "outputs": [
    {
     "name": "stdout",
     "output_type": "stream",
     "text": [
      "17\n"
     ]
    }
   ],
   "source": [
    "print(2+3*5) #Operator precedence"
   ]
  },
  {
   "cell_type": "markdown",
   "id": "cf29e9a6",
   "metadata": {},
   "source": [
    "# Comparison operator"
   ]
  },
  {
   "cell_type": "code",
   "execution_count": 57,
   "id": "3e7ca937",
   "metadata": {},
   "outputs": [
    {
     "name": "stdout",
     "output_type": "stream",
     "text": [
      "True\n",
      "False\n",
      "True\n",
      "False\n",
      "True\n"
     ]
    }
   ],
   "source": [
    "print(3>2)\n",
    "print(3<=2)\n",
    "print(3>=3)\n",
    "print(3==2)\n",
    "print(3!=2)"
   ]
  },
  {
   "cell_type": "markdown",
   "id": "cc2714e8",
   "metadata": {},
   "source": [
    "# Logical operator"
   ]
  },
  {
   "cell_type": "code",
   "execution_count": 62,
   "id": "8e6bdf28",
   "metadata": {},
   "outputs": [
    {
     "name": "stdout",
     "output_type": "stream",
     "text": [
      "True\n",
      "False\n",
      "True\n",
      "True\n"
     ]
    }
   ],
   "source": [
    "print(2>3 or 2>1)\n",
    "print(2>3 and 2>1)\n",
    "print(3>2 and 2>1)\n",
    "print(not 2>3)"
   ]
  },
  {
   "cell_type": "markdown",
   "id": "ade30178",
   "metadata": {},
   "source": [
    "# IF ELSE"
   ]
  },
  {
   "cell_type": "code",
   "execution_count": 72,
   "id": "a08c6b14",
   "metadata": {},
   "outputs": [
    {
     "name": "stdout",
     "output_type": "stream",
     "text": [
      "Enter your age :25\n",
      "You are adult\n"
     ]
    }
   ],
   "source": [
    "age = input(\"Enter your age :\")\n",
    "if int(age)>19:\n",
    "    print(\"You are adult\")\n",
    "elif int(age)<18 and int(age)>15:\n",
    "    print(\"You need to wait\")\n",
    "else:\n",
    "    print(\"Go and play\")"
   ]
  },
  {
   "cell_type": "markdown",
   "id": "88d3c367",
   "metadata": {},
   "source": [
    "# Range"
   ]
  },
  {
   "cell_type": "code",
   "execution_count": 73,
   "id": "7c8b90d2",
   "metadata": {},
   "outputs": [
    {
     "data": {
      "text/plain": [
       "range(0, 5)"
      ]
     },
     "execution_count": 73,
     "metadata": {},
     "output_type": "execute_result"
    }
   ],
   "source": [
    "range(5)"
   ]
  },
  {
   "cell_type": "markdown",
   "id": "c9ed6e0a",
   "metadata": {},
   "source": [
    "# Loop"
   ]
  },
  {
   "cell_type": "code",
   "execution_count": 76,
   "id": "49683123",
   "metadata": {},
   "outputs": [
    {
     "name": "stdout",
     "output_type": "stream",
     "text": [
      "1\n",
      "2\n",
      "3\n",
      "4\n",
      "5\n"
     ]
    }
   ],
   "source": [
    "i=1\n",
    "while i<=5:\n",
    "    print(i)\n",
    "    i += 1"
   ]
  },
  {
   "cell_type": "code",
   "execution_count": 78,
   "id": "67a25416",
   "metadata": {},
   "outputs": [
    {
     "name": "stdout",
     "output_type": "stream",
     "text": [
      "*\n",
      "**\n",
      "***\n",
      "****\n",
      "*****\n"
     ]
    }
   ],
   "source": [
    "i=1\n",
    "while i<=5:\n",
    "    print(i * \"*\")\n",
    "    i += 1"
   ]
  },
  {
   "cell_type": "code",
   "execution_count": 79,
   "id": "9490f434",
   "metadata": {},
   "outputs": [
    {
     "name": "stdout",
     "output_type": "stream",
     "text": [
      "*****\n",
      "****\n",
      "***\n",
      "**\n",
      "*\n",
      "\n"
     ]
    }
   ],
   "source": [
    "i=5\n",
    "while i>=0:\n",
    "    print(i * \"*\")\n",
    "    i -= 1"
   ]
  },
  {
   "cell_type": "code",
   "execution_count": 80,
   "id": "cfe97a7f",
   "metadata": {
    "scrolled": true
   },
   "outputs": [
    {
     "name": "stdout",
     "output_type": "stream",
     "text": [
      "0\n",
      "1\n",
      "2\n",
      "3\n",
      "4\n"
     ]
    }
   ],
   "source": [
    "for i in range(5):\n",
    "    print(i)"
   ]
  }
 ],
 "metadata": {
  "kernelspec": {
   "display_name": "Python 3 (ipykernel)",
   "language": "python",
   "name": "python3"
  },
  "language_info": {
   "codemirror_mode": {
    "name": "ipython",
    "version": 3
   },
   "file_extension": ".py",
   "mimetype": "text/x-python",
   "name": "python",
   "nbconvert_exporter": "python",
   "pygments_lexer": "ipython3",
   "version": "3.11.5"
  }
 },
 "nbformat": 4,
 "nbformat_minor": 5
}
