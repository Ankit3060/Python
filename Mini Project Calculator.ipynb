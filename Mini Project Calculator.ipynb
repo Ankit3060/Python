{
 "cells": [
  {
   "cell_type": "markdown",
   "id": "bdec1edc",
   "metadata": {},
   "source": [
    "**In this project we are building the calculator**"
   ]
  },
  {
   "cell_type": "code",
   "execution_count": 6,
   "id": "28cc61f0",
   "metadata": {},
   "outputs": [
    {
     "name": "stdout",
     "output_type": "stream",
     "text": [
      "Enter the first value :50\n",
      "Enter the operator (+,-,*,/,%) :%\n",
      "Enter the second value :15\n",
      "5\n"
     ]
    }
   ],
   "source": [
    "num1 = input(\"Enter the first value :\")\n",
    "operator = input(\"Enter the operator (+,-,*,/,%) :\")\n",
    "num2 = input(\"Enter the second value :\")\n",
    "if operator == '+':\n",
    "    print(int(num1)+int(num2))\n",
    "elif operator == '-':\n",
    "    print(int(num1)+int(num2))\n",
    "elif operator == '*':\n",
    "    print(int(num1)*int(num2))\n",
    "elif operator == '/':\n",
    "    print(int(num1)/int(num2))\n",
    "elif operator == '%':\n",
    "    print(int(num1)%int(num2))\n",
    "else:\n",
    "    print(\"choose correct operator\")"
   ]
  },
  {
   "cell_type": "code",
   "execution_count": null,
   "id": "a7bae40a",
   "metadata": {},
   "outputs": [],
   "source": []
  }
 ],
 "metadata": {
  "kernelspec": {
   "display_name": "Python 3 (ipykernel)",
   "language": "python",
   "name": "python3"
  },
  "language_info": {
   "codemirror_mode": {
    "name": "ipython",
    "version": 3
   },
   "file_extension": ".py",
   "mimetype": "text/x-python",
   "name": "python",
   "nbconvert_exporter": "python",
   "pygments_lexer": "ipython3",
   "version": "3.11.5"
  }
 },
 "nbformat": 4,
 "nbformat_minor": 5
}
