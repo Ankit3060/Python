{
 "cells": [
  {
   "cell_type": "markdown",
   "id": "fa8dc340",
   "metadata": {},
   "source": [
    "# List"
   ]
  },
  {
   "cell_type": "code",
   "execution_count": 7,
   "id": "32bfce0c",
   "metadata": {},
   "outputs": [
    {
     "name": "stdout",
     "output_type": "stream",
     "text": [
      "[95, 98, 89]\n",
      "95\n",
      "98\n",
      "89\n",
      "89\n",
      "[95, 98]\n"
     ]
    }
   ],
   "source": [
    "marks = [95,98,89]\n",
    "print(marks)\n",
    "print(marks[0])\n",
    "print(marks[1])\n",
    "print(marks[2])\n",
    "print(marks[-1]) #in pyton index can also be -ve means start from ending\n",
    "print(marks[0:2])"
   ]
  },
  {
   "cell_type": "code",
   "execution_count": 8,
   "id": "37e3ae0e",
   "metadata": {},
   "outputs": [
    {
     "name": "stdout",
     "output_type": "stream",
     "text": [
      "95\n",
      "98\n",
      "89\n"
     ]
    }
   ],
   "source": [
    "marks = [95,98,89]\n",
    "for score in marks:\n",
    "    print(score)"
   ]
  },
  {
   "cell_type": "code",
   "execution_count": 9,
   "id": "c8d45003",
   "metadata": {},
   "outputs": [
    {
     "name": "stdout",
     "output_type": "stream",
     "text": [
      "[95, 98, 89, 99]\n"
     ]
    }
   ],
   "source": [
    "marks = [95,98,89]\n",
    "\n",
    "marks.append(99)\n",
    "print(marks)"
   ]
  },
  {
   "cell_type": "code",
   "execution_count": 13,
   "id": "4073f48a",
   "metadata": {},
   "outputs": [
    {
     "name": "stdout",
     "output_type": "stream",
     "text": [
      "[99, 95, 98, 89, 99]\n",
      "True\n",
      "5\n"
     ]
    }
   ],
   "source": [
    "marks = [95,98,89]\n",
    "marks.insert(0,99)\n",
    "marks.insert(4,99)\n",
    "print(marks)\n",
    "print(99 in marks)\n",
    "print(len(marks))"
   ]
  },
  {
   "cell_type": "code",
   "execution_count": 14,
   "id": "4f5cf0a9",
   "metadata": {},
   "outputs": [
    {
     "name": "stdout",
     "output_type": "stream",
     "text": [
      "95\n",
      "98\n",
      "89\n"
     ]
    }
   ],
   "source": [
    "marks = [95,98,89]\n",
    "i=0\n",
    "while i<len(marks):\n",
    "    print(marks[i])\n",
    "    i += 1\n",
    "    "
   ]
  },
  {
   "cell_type": "code",
   "execution_count": 17,
   "id": "21cf2f55",
   "metadata": {},
   "outputs": [
    {
     "name": "stdout",
     "output_type": "stream",
     "text": [
      "[99, 95, 98, 89, 99]\n",
      "[]\n"
     ]
    }
   ],
   "source": [
    "marks = [95,98,89]\n",
    "marks.insert(0,99)\n",
    "marks.insert(4,99)\n",
    "print(marks)\n",
    "marks.clear()\n",
    "print(marks)"
   ]
  },
  {
   "cell_type": "markdown",
   "id": "f527fa71",
   "metadata": {},
   "source": [
    "# Break and continue"
   ]
  },
  {
   "cell_type": "code",
   "execution_count": 25,
   "id": "cf3f6a78",
   "metadata": {},
   "outputs": [
    {
     "name": "stdout",
     "output_type": "stream",
     "text": [
      "Ram\n",
      "Shyam\n",
      "Kishan\n"
     ]
    }
   ],
   "source": [
    "students = [\"Ram\",\"Shyam\",\"Kishan\",\"Radha\",\"Radhika\"]\n",
    "for student in students:\n",
    "    if student == \"Radha\":\n",
    "        break;\n",
    "    print(student)\n",
    "        "
   ]
  },
  {
   "cell_type": "code",
   "execution_count": 26,
   "id": "5540a1b0",
   "metadata": {},
   "outputs": [
    {
     "name": "stdout",
     "output_type": "stream",
     "text": [
      "Ram\n",
      "Shyam\n",
      "Kishan\n",
      "Radhika\n"
     ]
    }
   ],
   "source": [
    "students = [\"Ram\",\"Shyam\",\"Kishan\",\"Radha\",\"Radhika\"]\n",
    "for student in students:\n",
    "    if student == \"Radha\":\n",
    "        continue;\n",
    "    print(student)\n",
    "        "
   ]
  },
  {
   "cell_type": "markdown",
   "id": "066f72e6",
   "metadata": {},
   "source": [
    "# Tuple"
   ]
  },
  {
   "cell_type": "code",
   "execution_count": 31,
   "id": "3f108d05",
   "metadata": {},
   "outputs": [
    {
     "name": "stdout",
     "output_type": "stream",
     "text": [
      "3\n"
     ]
    }
   ],
   "source": [
    "marks = (99,98,97,97,97,7)\n",
    "print(marks.count(97))"
   ]
  },
  {
   "cell_type": "code",
   "execution_count": 33,
   "id": "b9bb7029",
   "metadata": {},
   "outputs": [
    {
     "name": "stdout",
     "output_type": "stream",
     "text": [
      "2\n"
     ]
    }
   ],
   "source": [
    "marks = (99,98,97)\n",
    "print(marks.index(97))"
   ]
  },
  {
   "cell_type": "markdown",
   "id": "7cc5d02f",
   "metadata": {},
   "source": [
    "# Sets"
   ]
  },
  {
   "cell_type": "code",
   "execution_count": 35,
   "id": "4fe5cb01",
   "metadata": {},
   "outputs": [
    {
     "name": "stdout",
     "output_type": "stream",
     "text": [
      "{97, 98, 95}\n"
     ]
    }
   ],
   "source": [
    "marks = {98,95,97,97,97}\n",
    "print(marks)"
   ]
  },
  {
   "cell_type": "code",
   "execution_count": 37,
   "id": "92704825",
   "metadata": {},
   "outputs": [
    {
     "name": "stdout",
     "output_type": "stream",
     "text": [
      "97\n",
      "98\n",
      "95\n"
     ]
    }
   ],
   "source": [
    "marks = {98,95,97,97,97}\n",
    "for i in marks:\n",
    "    print(i)"
   ]
  },
  {
   "cell_type": "markdown",
   "id": "38af4221",
   "metadata": {},
   "source": [
    "# Dictionary"
   ]
  },
  {
   "cell_type": "code",
   "execution_count": 39,
   "id": "e4f3cc3f",
   "metadata": {},
   "outputs": [
    {
     "name": "stdout",
     "output_type": "stream",
     "text": [
      "98\n"
     ]
    }
   ],
   "source": [
    "marks = {\"Engish\":95 , \"Chemistry\": 98, \"Physics\":99}\n",
    "print(marks[\"Chemistry\"])"
   ]
  },
  {
   "cell_type": "code",
   "execution_count": 40,
   "id": "b87e27d8",
   "metadata": {},
   "outputs": [
    {
     "name": "stdout",
     "output_type": "stream",
     "text": [
      "{'Engish': 95, 'Chemistry': 98, 'Physics': 99, 'History': 92}\n"
     ]
    }
   ],
   "source": [
    "marks = {\"Engish\":95 , \"Chemistry\": 98, \"Physics\":99}\n",
    "marks[\"History\"]=92\n",
    "print(marks)"
   ]
  },
  {
   "cell_type": "code",
   "execution_count": 41,
   "id": "31fb2718",
   "metadata": {},
   "outputs": [
    {
     "name": "stdout",
     "output_type": "stream",
     "text": [
      "{'Engish': 95, 'Chemistry': 98, 'Physics': 89}\n"
     ]
    }
   ],
   "source": [
    "marks = {\"Engish\":95 , \"Chemistry\": 98, \"Physics\":99}\n",
    "marks[\"Physics\"]=89\n",
    "print(marks)"
   ]
  },
  {
   "cell_type": "markdown",
   "id": "78f9804f",
   "metadata": {},
   "source": [
    "# Function\n",
    "**1. Inbuit function : (int , float , str etc)**\n",
    "**2. Module function : (import statement such as math , random etc)**\n",
    "**3. User define function**"
   ]
  },
  {
   "cell_type": "code",
   "execution_count": 42,
   "id": "926766b9",
   "metadata": {},
   "outputs": [
    {
     "name": "stdout",
     "output_type": "stream",
     "text": [
      "4.0\n"
     ]
    }
   ],
   "source": [
    "from math import sqrt\n",
    "print(sqrt(16))"
   ]
  },
  {
   "cell_type": "code",
   "execution_count": 47,
   "id": "7249a3a0",
   "metadata": {},
   "outputs": [
    {
     "name": "stdout",
     "output_type": "stream",
     "text": [
      "4\n",
      "8\n"
     ]
    }
   ],
   "source": [
    "def sum(num1,num2=5):\n",
    "    print(num1+num2)\n",
    "\n",
    "sum(1,3)\n",
    "sum(3)"
   ]
  },
  {
   "cell_type": "code",
   "execution_count": null,
   "id": "b632857f",
   "metadata": {},
   "outputs": [],
   "source": []
  }
 ],
 "metadata": {
  "kernelspec": {
   "display_name": "Python 3 (ipykernel)",
   "language": "python",
   "name": "python3"
  },
  "language_info": {
   "codemirror_mode": {
    "name": "ipython",
    "version": 3
   },
   "file_extension": ".py",
   "mimetype": "text/x-python",
   "name": "python",
   "nbconvert_exporter": "python",
   "pygments_lexer": "ipython3",
   "version": "3.11.5"
  }
 },
 "nbformat": 4,
 "nbformat_minor": 5
}
